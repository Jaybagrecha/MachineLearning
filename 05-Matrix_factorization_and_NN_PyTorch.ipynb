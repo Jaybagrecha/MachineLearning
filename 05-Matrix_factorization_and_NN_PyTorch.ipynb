{
 "cells": [
  {
   "cell_type": "markdown",
   "metadata": {},
   "source": [
    "# Predicting movie ratings "
   ]
  },
  {
   "cell_type": "markdown",
   "metadata": {},
   "source": [
    "The aim of this notebook is to show how neural networks can be used for building the backbone of recommendation systems. \n",
    "\n",
    "The dataset used here is the Netflix dataset that just has the Movie Id, User Id, Date and Rating. \n",
    "Dataset: https://www.kaggle.com/netflix-inc/netflix-prize-data/data\n",
    "\n",
    "To build a recommendation system, the most important part is to predict which movies a given user will like, and recommend those that he may give the highest rating to.\n",
    "\n",
    "For this, I have built 3 models in PyTorch:\n",
    "1. Matrix Factorization to create Movie and User embedded respresentations.\n",
    "2. Matrix Factorization with Bias - Similar to above, but adds bias vectors for Movie and User to capture the inherent nature of both (i.e. inherent ratings that user gives to any movie, overall rating that a movie gets).\n",
    "3. Neural Network Model - Using embeddings for Movie and User, and date-time features, I have built a simple neural network using only Linear layers.\n",
    "\n",
    "Note - You do not need a GPU to run this, if the size of the data can be handled by your CPU. Or you can just run it for one file as a demo (instead of all 4)."
   ]
  },
  {
   "cell_type": "code",
   "execution_count": 1,
   "metadata": {
    "ExecuteTime": {
     "end_time": "2018-06-01T17:23:49.272426Z",
     "start_time": "2018-06-01T17:23:47.510195Z"
    }
   },
   "outputs": [],
   "source": [
    "import torch\n",
    "import torch.nn as nn\n",
    "import torch.nn.functional as F\n",
    "import torch.optim as optim\n",
    "from torchvision import datasets, transforms\n",
    "from torch.utils.data import Dataset, DataLoader\n",
    "import numpy as np\n",
    "import pandas as pd\n",
    "from torch.autograd import Variable as V\n",
    "\n",
    "import matplotlib.pyplot as plt\n",
    "%matplotlib inline"
   ]
  },
  {
   "cell_type": "markdown",
   "metadata": {},
   "source": [
    "## Data Preprocessing\n",
    "https://www.kaggle.com/laowingkin/netflix-movie-recommendation"
   ]
  },
  {
   "cell_type": "code",
   "execution_count": 2,
   "metadata": {
    "ExecuteTime": {
     "end_time": "2018-06-01T17:23:49.285109Z",
     "start_time": "2018-06-01T17:23:49.282535Z"
    }
   },
   "outputs": [],
   "source": [
    "filenames = [\n",
    "    'combined_data_1.txt', 'combined_data_2.txt', 'combined_data_3.txt',\n",
    "    'combined_data_4.txt'\n",
    "]"
   ]
  },
  {
   "cell_type": "code",
   "execution_count": 3,
   "metadata": {
    "ExecuteTime": {
     "end_time": "2018-06-01T17:23:49.296578Z",
     "start_time": "2018-06-01T17:23:49.294457Z"
    }
   },
   "outputs": [],
   "source": [
    "f = filenames[0]"
   ]
  },
  {
   "cell_type": "code",
   "execution_count": 4,
   "metadata": {
    "ExecuteTime": {
     "end_time": "2018-06-01T17:23:49.310072Z",
     "start_time": "2018-06-01T17:23:49.305977Z"
    }
   },
   "outputs": [
    {
     "data": {
      "text/plain": [
       "'combined_data_1.txt'"
      ]
     },
     "execution_count": 4,
     "metadata": {},
     "output_type": "execute_result"
    }
   ],
   "source": [
    "f"
   ]
  },
  {
   "cell_type": "code",
   "execution_count": 5,
   "metadata": {
    "ExecuteTime": {
     "end_time": "2018-06-01T17:24:07.211564Z",
     "start_time": "2018-06-01T17:23:50.044783Z"
    }
   },
   "outputs": [],
   "source": [
    "df = pd.read_csv(f, names=['Cust_Id', 'Rating', 'Date'], parse_dates=True)\n",
    "df['Rating'] = df['Rating'].astype(float)"
   ]
  },
  {
   "cell_type": "code",
   "execution_count": 6,
   "metadata": {
    "ExecuteTime": {
     "end_time": "2018-06-01T17:24:07.254818Z",
     "start_time": "2018-06-01T17:24:07.246491Z"
    }
   },
   "outputs": [
    {
     "name": "stdout",
     "output_type": "stream",
     "text": [
      "Dataset 1 shape: (24058263, 3)\n",
      "-Dataset examples-\n",
      "          Cust_Id  Rating        Date\n",
      "0              1:     NaN         NaN\n",
      "5000000   2560324     4.0  2005-12-06\n",
      "10000000  2271935     2.0  2005-04-11\n",
      "15000000  1921803     2.0  2005-01-31\n",
      "20000000  1933327     3.0  2004-11-10\n"
     ]
    }
   ],
   "source": [
    "print('Dataset 1 shape: {}'.format(df.shape))\n",
    "print('-Dataset examples-')\n",
    "print(df.iloc[::5000000, :])"
   ]
  },
  {
   "cell_type": "markdown",
   "metadata": {},
   "source": [
    "Combine all the 4 files"
   ]
  },
  {
   "cell_type": "code",
   "execution_count": 7,
   "metadata": {
    "ExecuteTime": {
     "end_time": "2018-06-01T17:25:50.455009Z",
     "start_time": "2018-06-01T17:24:48.134894Z"
    }
   },
   "outputs": [],
   "source": [
    "for f in filenames[1:]:\n",
    "    df1 = pd.read_csv(f, names=['Cust_Id', 'Rating', 'Date'], parse_dates=True)\n",
    "    df1['Rating'] = df1['Rating'].astype(float)\n",
    "    df.append(df1)"
   ]
  },
  {
   "cell_type": "code",
   "execution_count": 8,
   "metadata": {
    "ExecuteTime": {
     "end_time": "2018-06-01T17:26:27.137629Z",
     "start_time": "2018-06-01T17:26:27.062940Z"
    }
   },
   "outputs": [
    {
     "name": "stdout",
     "output_type": "stream",
     "text": [
      "Full dataset shape: (24058263, 3)\n",
      "-Dataset examples-\n",
      "          Cust_Id  Rating        Date\n",
      "0              1:     NaN         NaN\n",
      "5000000   2560324     4.0  2005-12-06\n",
      "10000000  2271935     2.0  2005-04-11\n",
      "15000000  1921803     2.0  2005-01-31\n",
      "20000000  1933327     3.0  2004-11-10\n"
     ]
    }
   ],
   "source": [
    "df.index = np.arange(0, len(df))\n",
    "print('Full dataset shape: {}'.format(df.shape))\n",
    "print('-Dataset examples-')\n",
    "print(df.iloc[::5000000, :])"
   ]
  },
  {
   "cell_type": "code",
   "execution_count": 9,
   "metadata": {
    "ExecuteTime": {
     "end_time": "2018-06-01T17:26:33.330412Z",
     "start_time": "2018-06-01T17:26:33.328074Z"
    }
   },
   "outputs": [],
   "source": [
    "del df1"
   ]
  },
  {
   "cell_type": "code",
   "execution_count": 10,
   "metadata": {
    "ExecuteTime": {
     "end_time": "2018-06-01T17:26:37.649093Z",
     "start_time": "2018-06-01T17:26:37.565236Z"
    }
   },
   "outputs": [
    {
     "data": {
      "text/html": [
       "<div>\n",
       "<style scoped>\n",
       "    .dataframe tbody tr th:only-of-type {\n",
       "        vertical-align: middle;\n",
       "    }\n",
       "\n",
       "    .dataframe tbody tr th {\n",
       "        vertical-align: top;\n",
       "    }\n",
       "\n",
       "    .dataframe thead th {\n",
       "        text-align: right;\n",
       "    }\n",
       "</style>\n",
       "<table border=\"1\" class=\"dataframe\">\n",
       "  <thead>\n",
       "    <tr style=\"text-align: right;\">\n",
       "      <th></th>\n",
       "      <th>index</th>\n",
       "      <th>Rating</th>\n",
       "    </tr>\n",
       "  </thead>\n",
       "  <tbody>\n",
       "    <tr>\n",
       "      <th>0</th>\n",
       "      <td>0</td>\n",
       "      <td>True</td>\n",
       "    </tr>\n",
       "    <tr>\n",
       "      <th>1</th>\n",
       "      <td>548</td>\n",
       "      <td>True</td>\n",
       "    </tr>\n",
       "    <tr>\n",
       "      <th>2</th>\n",
       "      <td>694</td>\n",
       "      <td>True</td>\n",
       "    </tr>\n",
       "    <tr>\n",
       "      <th>3</th>\n",
       "      <td>2707</td>\n",
       "      <td>True</td>\n",
       "    </tr>\n",
       "    <tr>\n",
       "      <th>4</th>\n",
       "      <td>2850</td>\n",
       "      <td>True</td>\n",
       "    </tr>\n",
       "  </tbody>\n",
       "</table>\n",
       "</div>"
      ],
      "text/plain": [
       "   index  Rating\n",
       "0      0    True\n",
       "1    548    True\n",
       "2    694    True\n",
       "3   2707    True\n",
       "4   2850    True"
      ]
     },
     "execution_count": 10,
     "metadata": {},
     "output_type": "execute_result"
    }
   ],
   "source": [
    "df_nan = pd.DataFrame(pd.isnull(df.Rating))\n",
    "df_nan = df_nan[df_nan['Rating'] == True]\n",
    "df_nan = df_nan.reset_index()\n",
    "df_nan.head()"
   ]
  },
  {
   "cell_type": "markdown",
   "metadata": {},
   "source": [
    "Create an array that contains the movie id. For this, number of rows between successive NaN's are taken into account."
   ]
  },
  {
   "cell_type": "code",
   "execution_count": 11,
   "metadata": {
    "ExecuteTime": {
     "end_time": "2018-06-01T17:28:14.659422Z",
     "start_time": "2018-06-01T17:26:38.814851Z"
    }
   },
   "outputs": [
    {
     "name": "stdout",
     "output_type": "stream",
     "text": [
      "Movie numpy: [  1.00000000e+00   1.00000000e+00   1.00000000e+00 ...,   4.49900000e+03\n",
      "   4.49900000e+03   4.49900000e+03]\n",
      "Length: 24053764\n"
     ]
    }
   ],
   "source": [
    "movie_np = []\n",
    "movie_id = 1\n",
    "\n",
    "for i, j in zip(df_nan['index'][1:], df_nan['index'][:-1]):\n",
    "    temp = np.full((1, i - j - 1), movie_id)\n",
    "    movie_np = np.append(movie_np, temp)\n",
    "    movie_id += 1\n",
    "\n",
    "# Account for last record and corresponding length\n",
    "last_record = np.full((1, len(df) - df_nan.iloc[-1, 0] - 1), movie_id)\n",
    "movie_np = np.append(movie_np, last_record)\n",
    "\n",
    "print('Movie numpy: {}'.format(movie_np))\n",
    "print('Length: {}'.format(len(movie_np)))"
   ]
  },
  {
   "cell_type": "code",
   "execution_count": 12,
   "metadata": {
    "ExecuteTime": {
     "end_time": "2018-06-01T17:28:19.715740Z",
     "start_time": "2018-06-01T17:28:14.703477Z"
    }
   },
   "outputs": [
    {
     "name": "stdout",
     "output_type": "stream",
     "text": [
      "-Dataset examples-\n",
      "          Cust_Id  Rating        Date  Movie_Id\n",
      "1         1488844     3.0  2005-09-06         1\n",
      "5000996    501954     2.0  2004-08-26       996\n",
      "10001962   404654     5.0  2005-08-29      1962\n",
      "15002876   886608     2.0  2005-09-19      2876\n",
      "20003825  1193835     2.0  2003-08-13      3825\n"
     ]
    }
   ],
   "source": [
    "df = df[pd.notnull(df['Rating'])]\n",
    "\n",
    "df['Movie_Id'] = movie_np.astype(int)\n",
    "df['Cust_Id'] = df['Cust_Id'].astype(int)\n",
    "print('-Dataset examples-')\n",
    "print(df.iloc[::5000000, :])"
   ]
  },
  {
   "cell_type": "code",
   "execution_count": 13,
   "metadata": {
    "ExecuteTime": {
     "end_time": "2018-06-01T17:30:37.280183Z",
     "start_time": "2018-06-01T17:30:34.849732Z"
    }
   },
   "outputs": [],
   "source": [
    "df.to_pickle('temp_df_full')"
   ]
  },
  {
   "cell_type": "code",
   "execution_count": 2,
   "metadata": {
    "ExecuteTime": {
     "end_time": "2018-05-29T08:48:28.447958Z",
     "start_time": "2018-05-29T08:48:19.797453Z"
    }
   },
   "outputs": [
    {
     "data": {
      "text/html": [
       "<div>\n",
       "<style scoped>\n",
       "    .dataframe tbody tr th:only-of-type {\n",
       "        vertical-align: middle;\n",
       "    }\n",
       "\n",
       "    .dataframe tbody tr th {\n",
       "        vertical-align: top;\n",
       "    }\n",
       "\n",
       "    .dataframe thead th {\n",
       "        text-align: right;\n",
       "    }\n",
       "</style>\n",
       "<table border=\"1\" class=\"dataframe\">\n",
       "  <thead>\n",
       "    <tr style=\"text-align: right;\">\n",
       "      <th></th>\n",
       "      <th>Cust_Id</th>\n",
       "      <th>Rating</th>\n",
       "      <th>Date</th>\n",
       "      <th>Movie_Id</th>\n",
       "    </tr>\n",
       "  </thead>\n",
       "  <tbody>\n",
       "    <tr>\n",
       "      <th>1</th>\n",
       "      <td>1488844</td>\n",
       "      <td>3.0</td>\n",
       "      <td>2005-09-06</td>\n",
       "      <td>1</td>\n",
       "    </tr>\n",
       "    <tr>\n",
       "      <th>2</th>\n",
       "      <td>822109</td>\n",
       "      <td>5.0</td>\n",
       "      <td>2005-05-13</td>\n",
       "      <td>1</td>\n",
       "    </tr>\n",
       "    <tr>\n",
       "      <th>3</th>\n",
       "      <td>885013</td>\n",
       "      <td>4.0</td>\n",
       "      <td>2005-10-19</td>\n",
       "      <td>1</td>\n",
       "    </tr>\n",
       "    <tr>\n",
       "      <th>4</th>\n",
       "      <td>30878</td>\n",
       "      <td>4.0</td>\n",
       "      <td>2005-12-26</td>\n",
       "      <td>1</td>\n",
       "    </tr>\n",
       "    <tr>\n",
       "      <th>5</th>\n",
       "      <td>823519</td>\n",
       "      <td>3.0</td>\n",
       "      <td>2004-05-03</td>\n",
       "      <td>1</td>\n",
       "    </tr>\n",
       "  </tbody>\n",
       "</table>\n",
       "</div>"
      ],
      "text/plain": [
       "   Cust_Id  Rating        Date  Movie_Id\n",
       "1  1488844     3.0  2005-09-06         1\n",
       "2   822109     5.0  2005-05-13         1\n",
       "3   885013     4.0  2005-10-19         1\n",
       "4    30878     4.0  2005-12-26         1\n",
       "5   823519     3.0  2004-05-03         1"
      ]
     },
     "execution_count": 2,
     "metadata": {},
     "output_type": "execute_result"
    }
   ],
   "source": [
    "df = pd.read_pickle('temp_df_full')\n",
    "df.head()"
   ]
  },
  {
   "cell_type": "markdown",
   "metadata": {},
   "source": [
    "Filter out the movies and users that do not have too many reviews associated with them."
   ]
  },
  {
   "cell_type": "code",
   "execution_count": 14,
   "metadata": {
    "ExecuteTime": {
     "end_time": "2018-06-01T17:30:52.050528Z",
     "start_time": "2018-06-01T17:30:43.740969Z"
    }
   },
   "outputs": [
    {
     "name": "stdout",
     "output_type": "stream",
     "text": [
      "Movie minimum times of review: 3884.0\n",
      "Customer minimum times of review: 79.0\n"
     ]
    }
   ],
   "source": [
    "f = ['count', 'mean']\n",
    "\n",
    "df_movie_summary = df.groupby('Movie_Id')['Rating'].agg(f)\n",
    "df_movie_summary.index = df_movie_summary.index.map(int)\n",
    "movie_benchmark = round(df_movie_summary['count'].quantile(0.8), 0)\n",
    "drop_movie_list = df_movie_summary[\n",
    "    df_movie_summary['count'] < movie_benchmark].index\n",
    "\n",
    "print('Movie minimum times of review: {}'.format(movie_benchmark))\n",
    "\n",
    "df_cust_summary = df.groupby('Cust_Id')['Rating'].agg(f)\n",
    "df_cust_summary.index = df_cust_summary.index.map(int)\n",
    "cust_benchmark = round(df_cust_summary['count'].quantile(0.8), 0)\n",
    "drop_cust_list = df_cust_summary[\n",
    "    df_cust_summary['count'] < cust_benchmark].index\n",
    "\n",
    "print('Customer minimum times of review: {}'.format(cust_benchmark))"
   ]
  },
  {
   "cell_type": "code",
   "execution_count": 15,
   "metadata": {
    "ExecuteTime": {
     "end_time": "2018-06-01T17:31:01.452149Z",
     "start_time": "2018-06-01T17:30:54.573032Z"
    }
   },
   "outputs": [
    {
     "name": "stdout",
     "output_type": "stream",
     "text": [
      "Original Shape: (24053764, 4)\n",
      "After Trim Shape: (13528427, 4)\n",
      "-Data Examples-\n",
      "          Cust_Id  Rating        Date  Movie_Id\n",
      "5109       785314     1.0  2005-07-13         8\n",
      "8889698    332300     3.0  2004-07-13      1770\n",
      "17751978   629874     4.0  2005-11-22      3391\n"
     ]
    }
   ],
   "source": [
    "print('Original Shape: {}'.format(df.shape))\n",
    "df = df[~df['Movie_Id'].isin(drop_movie_list)]\n",
    "df = df[~df['Cust_Id'].isin(drop_cust_list)]\n",
    "print('After Trim Shape: {}'.format(df.shape))\n",
    "print('-Data Examples-')\n",
    "print(df.iloc[::5000000, :])"
   ]
  },
  {
   "cell_type": "markdown",
   "metadata": {},
   "source": [
    "### Processing the data for training the model\n",
    "1. Sort the data by date\n",
    "2. Create date-time features\n",
    "3. Encode the data to help with embedding lookup\n",
    "4. Split the data into train and validation. The latest 20% of the data is used as the validation set"
   ]
  },
  {
   "cell_type": "code",
   "execution_count": 16,
   "metadata": {
    "ExecuteTime": {
     "end_time": "2018-06-01T17:31:24.170820Z",
     "start_time": "2018-06-01T17:31:03.700270Z"
    }
   },
   "outputs": [],
   "source": [
    "df.sort_values(by=['Date'], axis=0, inplace=True)"
   ]
  },
  {
   "cell_type": "code",
   "execution_count": 17,
   "metadata": {
    "ExecuteTime": {
     "end_time": "2018-06-01T17:31:26.747301Z",
     "start_time": "2018-06-01T17:31:24.234680Z"
    }
   },
   "outputs": [],
   "source": [
    "df.Date = pd.to_datetime(df.Date)"
   ]
  },
  {
   "cell_type": "code",
   "execution_count": 18,
   "metadata": {
    "ExecuteTime": {
     "end_time": "2018-06-01T17:31:28.517673Z",
     "start_time": "2018-06-01T17:31:26.811062Z"
    }
   },
   "outputs": [
    {
     "data": {
      "text/html": [
       "<div>\n",
       "<style scoped>\n",
       "    .dataframe tbody tr th:only-of-type {\n",
       "        vertical-align: middle;\n",
       "    }\n",
       "\n",
       "    .dataframe tbody tr th {\n",
       "        vertical-align: top;\n",
       "    }\n",
       "\n",
       "    .dataframe thead th {\n",
       "        text-align: right;\n",
       "    }\n",
       "</style>\n",
       "<table border=\"1\" class=\"dataframe\">\n",
       "  <thead>\n",
       "    <tr style=\"text-align: right;\">\n",
       "      <th></th>\n",
       "      <th>Cust_Id</th>\n",
       "      <th>Rating</th>\n",
       "      <th>Date</th>\n",
       "      <th>Movie_Id</th>\n",
       "      <th>year</th>\n",
       "      <th>dow</th>\n",
       "      <th>month</th>\n",
       "    </tr>\n",
       "  </thead>\n",
       "  <tbody>\n",
       "    <tr>\n",
       "      <th>20397788</th>\n",
       "      <td>510180</td>\n",
       "      <td>2.0</td>\n",
       "      <td>1999-11-11</td>\n",
       "      <td>3870</td>\n",
       "      <td>1999</td>\n",
       "      <td>3</td>\n",
       "      <td>11</td>\n",
       "    </tr>\n",
       "    <tr>\n",
       "      <th>19589582</th>\n",
       "      <td>510180</td>\n",
       "      <td>4.0</td>\n",
       "      <td>1999-11-11</td>\n",
       "      <td>3730</td>\n",
       "      <td>1999</td>\n",
       "      <td>3</td>\n",
       "      <td>11</td>\n",
       "    </tr>\n",
       "    <tr>\n",
       "      <th>14895543</th>\n",
       "      <td>510180</td>\n",
       "      <td>3.0</td>\n",
       "      <td>1999-11-11</td>\n",
       "      <td>2866</td>\n",
       "      <td>1999</td>\n",
       "      <td>3</td>\n",
       "      <td>11</td>\n",
       "    </tr>\n",
       "    <tr>\n",
       "      <th>9057969</th>\n",
       "      <td>510180</td>\n",
       "      <td>5.0</td>\n",
       "      <td>1999-11-11</td>\n",
       "      <td>1798</td>\n",
       "      <td>1999</td>\n",
       "      <td>3</td>\n",
       "      <td>11</td>\n",
       "    </tr>\n",
       "    <tr>\n",
       "      <th>6902840</th>\n",
       "      <td>510180</td>\n",
       "      <td>5.0</td>\n",
       "      <td>1999-11-11</td>\n",
       "      <td>1367</td>\n",
       "      <td>1999</td>\n",
       "      <td>3</td>\n",
       "      <td>11</td>\n",
       "    </tr>\n",
       "  </tbody>\n",
       "</table>\n",
       "</div>"
      ],
      "text/plain": [
       "          Cust_Id  Rating       Date  Movie_Id  year  dow  month\n",
       "20397788   510180     2.0 1999-11-11      3870  1999    3     11\n",
       "19589582   510180     4.0 1999-11-11      3730  1999    3     11\n",
       "14895543   510180     3.0 1999-11-11      2866  1999    3     11\n",
       "9057969    510180     5.0 1999-11-11      1798  1999    3     11\n",
       "6902840    510180     5.0 1999-11-11      1367  1999    3     11"
      ]
     },
     "execution_count": 18,
     "metadata": {},
     "output_type": "execute_result"
    }
   ],
   "source": [
    "df['year'] = df.Date.dt.year\n",
    "df['dow'] = df.Date.dt.dayofweek\n",
    "df['month'] = df.Date.dt.month\n",
    "df.head()"
   ]
  },
  {
   "cell_type": "code",
   "execution_count": 19,
   "metadata": {
    "ExecuteTime": {
     "end_time": "2018-06-01T17:31:30.880018Z",
     "start_time": "2018-06-01T17:31:30.873736Z"
    }
   },
   "outputs": [],
   "source": [
    "# here is a handy function modified from fast.ai\n",
    "def proc_col(col, train_col=None):\n",
    "    \"\"\"Encodes a pandas column with continous ids. \n",
    "    \"\"\"\n",
    "    if train_col is not None:\n",
    "        uniq = train_col.unique()\n",
    "    else:\n",
    "        uniq = col.unique()\n",
    "    name2idx = {o: i for i, o in enumerate(uniq)}\n",
    "    return name2idx, np.array([name2idx.get(x, -1) for x in col]), len(uniq)"
   ]
  },
  {
   "cell_type": "code",
   "execution_count": 20,
   "metadata": {
    "ExecuteTime": {
     "end_time": "2018-06-01T17:31:31.320823Z",
     "start_time": "2018-06-01T17:31:31.311874Z"
    }
   },
   "outputs": [],
   "source": [
    "def encode_data(df, train=None):\n",
    "    \"\"\" Encodes rating data with continous user and movie ids. \n",
    "    If train is provided, encodes df with the same encoding as train.\n",
    "    \"\"\"\n",
    "    df = df.copy()\n",
    "    for col_name in ['Cust_Id', 'Movie_Id', 'year', 'dow', 'month']:\n",
    "        train_col = None\n",
    "        if train is not None:\n",
    "            train_col = train[col_name]\n",
    "        _, col, _ = proc_col(df[col_name], train_col)\n",
    "        df[col_name] = col\n",
    "        df = df[df[col_name] >= 0]\n",
    "    return df"
   ]
  },
  {
   "cell_type": "code",
   "execution_count": 21,
   "metadata": {
    "ExecuteTime": {
     "end_time": "2018-06-01T17:32:03.984642Z",
     "start_time": "2018-06-01T17:32:03.981191Z"
    }
   },
   "outputs": [
    {
     "data": {
      "text/plain": [
       "(13528427, 7)"
      ]
     },
     "execution_count": 21,
     "metadata": {},
     "output_type": "execute_result"
    }
   ],
   "source": [
    "df.shape"
   ]
  },
  {
   "cell_type": "code",
   "execution_count": 22,
   "metadata": {
    "ExecuteTime": {
     "end_time": "2018-06-01T17:32:35.843759Z",
     "start_time": "2018-06-01T17:32:05.503655Z"
    }
   },
   "outputs": [
    {
     "name": "stdout",
     "output_type": "stream",
     "text": [
      "(13528427, 7)\n"
     ]
    }
   ],
   "source": [
    "df_encode = encode_data(df)\n",
    "\n",
    "print(df_encode.shape)"
   ]
  },
  {
   "cell_type": "code",
   "execution_count": 23,
   "metadata": {
    "ExecuteTime": {
     "end_time": "2018-06-01T17:35:44.139800Z",
     "start_time": "2018-06-01T17:35:44.135980Z"
    }
   },
   "outputs": [],
   "source": [
    "k = round(len(df_encode) * 0.8)\n",
    "train = df_encode[:k]\n",
    "val = df_encode[k:]"
   ]
  },
  {
   "cell_type": "code",
   "execution_count": 24,
   "metadata": {
    "ExecuteTime": {
     "end_time": "2018-06-01T17:35:44.831799Z",
     "start_time": "2018-06-01T17:35:44.828172Z"
    }
   },
   "outputs": [
    {
     "data": {
      "text/plain": [
       "((10822742, 7), (2705685, 7))"
      ]
     },
     "execution_count": 24,
     "metadata": {},
     "output_type": "execute_result"
    }
   ],
   "source": [
    "train.shape, val.shape"
   ]
  },
  {
   "cell_type": "code",
   "execution_count": 25,
   "metadata": {
    "ExecuteTime": {
     "end_time": "2018-06-01T17:35:45.416026Z",
     "start_time": "2018-06-01T17:35:45.405314Z"
    }
   },
   "outputs": [
    {
     "data": {
      "text/html": [
       "<div>\n",
       "<style scoped>\n",
       "    .dataframe tbody tr th:only-of-type {\n",
       "        vertical-align: middle;\n",
       "    }\n",
       "\n",
       "    .dataframe tbody tr th {\n",
       "        vertical-align: top;\n",
       "    }\n",
       "\n",
       "    .dataframe thead th {\n",
       "        text-align: right;\n",
       "    }\n",
       "</style>\n",
       "<table border=\"1\" class=\"dataframe\">\n",
       "  <thead>\n",
       "    <tr style=\"text-align: right;\">\n",
       "      <th></th>\n",
       "      <th>Cust_Id</th>\n",
       "      <th>Rating</th>\n",
       "      <th>Date</th>\n",
       "      <th>Movie_Id</th>\n",
       "      <th>year</th>\n",
       "      <th>dow</th>\n",
       "      <th>month</th>\n",
       "    </tr>\n",
       "  </thead>\n",
       "  <tbody>\n",
       "    <tr>\n",
       "      <th>8425486</th>\n",
       "      <td>77058</td>\n",
       "      <td>4.0</td>\n",
       "      <td>2005-07-02</td>\n",
       "      <td>127</td>\n",
       "      <td>6</td>\n",
       "      <td>4</td>\n",
       "      <td>8</td>\n",
       "    </tr>\n",
       "    <tr>\n",
       "      <th>978848</th>\n",
       "      <td>26979</td>\n",
       "      <td>4.0</td>\n",
       "      <td>2005-07-02</td>\n",
       "      <td>771</td>\n",
       "      <td>6</td>\n",
       "      <td>4</td>\n",
       "      <td>8</td>\n",
       "    </tr>\n",
       "    <tr>\n",
       "      <th>139518</th>\n",
       "      <td>75880</td>\n",
       "      <td>3.0</td>\n",
       "      <td>2005-07-02</td>\n",
       "      <td>758</td>\n",
       "      <td>6</td>\n",
       "      <td>4</td>\n",
       "      <td>8</td>\n",
       "    </tr>\n",
       "    <tr>\n",
       "      <th>956431</th>\n",
       "      <td>55845</td>\n",
       "      <td>5.0</td>\n",
       "      <td>2005-07-02</td>\n",
       "      <td>832</td>\n",
       "      <td>6</td>\n",
       "      <td>4</td>\n",
       "      <td>8</td>\n",
       "    </tr>\n",
       "    <tr>\n",
       "      <th>20756448</th>\n",
       "      <td>85825</td>\n",
       "      <td>1.0</td>\n",
       "      <td>2005-07-02</td>\n",
       "      <td>155</td>\n",
       "      <td>6</td>\n",
       "      <td>4</td>\n",
       "      <td>8</td>\n",
       "    </tr>\n",
       "  </tbody>\n",
       "</table>\n",
       "</div>"
      ],
      "text/plain": [
       "          Cust_Id  Rating       Date  Movie_Id  year  dow  month\n",
       "8425486     77058     4.0 2005-07-02       127     6    4      8\n",
       "978848      26979     4.0 2005-07-02       771     6    4      8\n",
       "139518      75880     3.0 2005-07-02       758     6    4      8\n",
       "956431      55845     5.0 2005-07-02       832     6    4      8\n",
       "20756448    85825     1.0 2005-07-02       155     6    4      8"
      ]
     },
     "execution_count": 25,
     "metadata": {},
     "output_type": "execute_result"
    }
   ],
   "source": [
    "val.head()"
   ]
  },
  {
   "cell_type": "code",
   "execution_count": 26,
   "metadata": {
    "ExecuteTime": {
     "end_time": "2018-06-01T17:35:46.866457Z",
     "start_time": "2018-06-01T17:35:46.037689Z"
    }
   },
   "outputs": [
    {
     "data": {
      "text/html": [
       "<div>\n",
       "<style scoped>\n",
       "    .dataframe tbody tr th:only-of-type {\n",
       "        vertical-align: middle;\n",
       "    }\n",
       "\n",
       "    .dataframe tbody tr th {\n",
       "        vertical-align: top;\n",
       "    }\n",
       "\n",
       "    .dataframe thead th {\n",
       "        text-align: right;\n",
       "    }\n",
       "</style>\n",
       "<table border=\"1\" class=\"dataframe\">\n",
       "  <thead>\n",
       "    <tr style=\"text-align: right;\">\n",
       "      <th></th>\n",
       "      <th>Cust_Id</th>\n",
       "      <th>Rating</th>\n",
       "      <th>Movie_Id</th>\n",
       "      <th>year</th>\n",
       "      <th>dow</th>\n",
       "      <th>month</th>\n",
       "    </tr>\n",
       "  </thead>\n",
       "  <tbody>\n",
       "    <tr>\n",
       "      <th>count</th>\n",
       "      <td>2.705685e+06</td>\n",
       "      <td>2.705685e+06</td>\n",
       "      <td>2.705685e+06</td>\n",
       "      <td>2705685.0</td>\n",
       "      <td>2.705685e+06</td>\n",
       "      <td>2.705685e+06</td>\n",
       "    </tr>\n",
       "    <tr>\n",
       "      <th>mean</th>\n",
       "      <td>6.878358e+04</td>\n",
       "      <td>3.649158e+00</td>\n",
       "      <td>4.833145e+02</td>\n",
       "      <td>6.0</td>\n",
       "      <td>2.931223e+00</td>\n",
       "      <td>7.528857e+00</td>\n",
       "    </tr>\n",
       "    <tr>\n",
       "      <th>std</th>\n",
       "      <td>2.671884e+04</td>\n",
       "      <td>1.042806e+00</td>\n",
       "      <td>2.798225e+02</td>\n",
       "      <td>0.0</td>\n",
       "      <td>2.066913e+00</td>\n",
       "      <td>3.863186e+00</td>\n",
       "    </tr>\n",
       "    <tr>\n",
       "      <th>min</th>\n",
       "      <td>0.000000e+00</td>\n",
       "      <td>1.000000e+00</td>\n",
       "      <td>0.000000e+00</td>\n",
       "      <td>6.0</td>\n",
       "      <td>0.000000e+00</td>\n",
       "      <td>0.000000e+00</td>\n",
       "    </tr>\n",
       "    <tr>\n",
       "      <th>25%</th>\n",
       "      <td>5.183100e+04</td>\n",
       "      <td>3.000000e+00</td>\n",
       "      <td>2.470000e+02</td>\n",
       "      <td>6.0</td>\n",
       "      <td>1.000000e+00</td>\n",
       "      <td>8.000000e+00</td>\n",
       "    </tr>\n",
       "    <tr>\n",
       "      <th>50%</th>\n",
       "      <td>8.116700e+04</td>\n",
       "      <td>4.000000e+00</td>\n",
       "      <td>4.940000e+02</td>\n",
       "      <td>6.0</td>\n",
       "      <td>3.000000e+00</td>\n",
       "      <td>9.000000e+00</td>\n",
       "    </tr>\n",
       "    <tr>\n",
       "      <th>75%</th>\n",
       "      <td>8.979300e+04</td>\n",
       "      <td>4.000000e+00</td>\n",
       "      <td>7.490000e+02</td>\n",
       "      <td>6.0</td>\n",
       "      <td>5.000000e+00</td>\n",
       "      <td>1.000000e+01</td>\n",
       "    </tr>\n",
       "    <tr>\n",
       "      <th>max</th>\n",
       "      <td>9.532400e+04</td>\n",
       "      <td>5.000000e+00</td>\n",
       "      <td>8.990000e+02</td>\n",
       "      <td>6.0</td>\n",
       "      <td>6.000000e+00</td>\n",
       "      <td>1.100000e+01</td>\n",
       "    </tr>\n",
       "  </tbody>\n",
       "</table>\n",
       "</div>"
      ],
      "text/plain": [
       "            Cust_Id        Rating      Movie_Id       year           dow  \\\n",
       "count  2.705685e+06  2.705685e+06  2.705685e+06  2705685.0  2.705685e+06   \n",
       "mean   6.878358e+04  3.649158e+00  4.833145e+02        6.0  2.931223e+00   \n",
       "std    2.671884e+04  1.042806e+00  2.798225e+02        0.0  2.066913e+00   \n",
       "min    0.000000e+00  1.000000e+00  0.000000e+00        6.0  0.000000e+00   \n",
       "25%    5.183100e+04  3.000000e+00  2.470000e+02        6.0  1.000000e+00   \n",
       "50%    8.116700e+04  4.000000e+00  4.940000e+02        6.0  3.000000e+00   \n",
       "75%    8.979300e+04  4.000000e+00  7.490000e+02        6.0  5.000000e+00   \n",
       "max    9.532400e+04  5.000000e+00  8.990000e+02        6.0  6.000000e+00   \n",
       "\n",
       "              month  \n",
       "count  2.705685e+06  \n",
       "mean   7.528857e+00  \n",
       "std    3.863186e+00  \n",
       "min    0.000000e+00  \n",
       "25%    8.000000e+00  \n",
       "50%    9.000000e+00  \n",
       "75%    1.000000e+01  \n",
       "max    1.100000e+01  "
      ]
     },
     "execution_count": 26,
     "metadata": {},
     "output_type": "execute_result"
    }
   ],
   "source": [
    "val.describe()"
   ]
  },
  {
   "cell_type": "code",
   "execution_count": 27,
   "metadata": {
    "ExecuteTime": {
     "end_time": "2018-06-01T17:35:50.744178Z",
     "start_time": "2018-06-01T17:35:46.958695Z"
    }
   },
   "outputs": [
    {
     "data": {
      "text/html": [
       "<div>\n",
       "<style scoped>\n",
       "    .dataframe tbody tr th:only-of-type {\n",
       "        vertical-align: middle;\n",
       "    }\n",
       "\n",
       "    .dataframe tbody tr th {\n",
       "        vertical-align: top;\n",
       "    }\n",
       "\n",
       "    .dataframe thead th {\n",
       "        text-align: right;\n",
       "    }\n",
       "</style>\n",
       "<table border=\"1\" class=\"dataframe\">\n",
       "  <thead>\n",
       "    <tr style=\"text-align: right;\">\n",
       "      <th></th>\n",
       "      <th>Cust_Id</th>\n",
       "      <th>Rating</th>\n",
       "      <th>Movie_Id</th>\n",
       "      <th>year</th>\n",
       "      <th>dow</th>\n",
       "      <th>month</th>\n",
       "    </tr>\n",
       "  </thead>\n",
       "  <tbody>\n",
       "    <tr>\n",
       "      <th>count</th>\n",
       "      <td>1.082274e+07</td>\n",
       "      <td>1.082274e+07</td>\n",
       "      <td>1.082274e+07</td>\n",
       "      <td>1.082274e+07</td>\n",
       "      <td>1.082274e+07</td>\n",
       "      <td>1.082274e+07</td>\n",
       "    </tr>\n",
       "    <tr>\n",
       "      <th>mean</th>\n",
       "      <td>4.051722e+04</td>\n",
       "      <td>3.563321e+00</td>\n",
       "      <td>4.214489e+02</td>\n",
       "      <td>4.952607e+00</td>\n",
       "      <td>2.893269e+00</td>\n",
       "      <td>5.161487e+00</td>\n",
       "    </tr>\n",
       "    <tr>\n",
       "      <th>std</th>\n",
       "      <td>2.451481e+04</td>\n",
       "      <td>1.056134e+00</td>\n",
       "      <td>2.555251e+02</td>\n",
       "      <td>1.065177e+00</td>\n",
       "      <td>2.061699e+00</td>\n",
       "      <td>3.179469e+00</td>\n",
       "    </tr>\n",
       "    <tr>\n",
       "      <th>min</th>\n",
       "      <td>0.000000e+00</td>\n",
       "      <td>1.000000e+00</td>\n",
       "      <td>0.000000e+00</td>\n",
       "      <td>0.000000e+00</td>\n",
       "      <td>0.000000e+00</td>\n",
       "      <td>0.000000e+00</td>\n",
       "    </tr>\n",
       "    <tr>\n",
       "      <th>25%</th>\n",
       "      <td>1.899500e+04</td>\n",
       "      <td>3.000000e+00</td>\n",
       "      <td>2.030000e+02</td>\n",
       "      <td>5.000000e+00</td>\n",
       "      <td>1.000000e+00</td>\n",
       "      <td>2.000000e+00</td>\n",
       "    </tr>\n",
       "    <tr>\n",
       "      <th>50%</th>\n",
       "      <td>3.988400e+04</td>\n",
       "      <td>4.000000e+00</td>\n",
       "      <td>4.210000e+02</td>\n",
       "      <td>5.000000e+00</td>\n",
       "      <td>3.000000e+00</td>\n",
       "      <td>5.000000e+00</td>\n",
       "    </tr>\n",
       "    <tr>\n",
       "      <th>75%</th>\n",
       "      <td>6.113800e+04</td>\n",
       "      <td>4.000000e+00</td>\n",
       "      <td>6.530000e+02</td>\n",
       "      <td>6.000000e+00</td>\n",
       "      <td>5.000000e+00</td>\n",
       "      <td>7.000000e+00</td>\n",
       "    </tr>\n",
       "    <tr>\n",
       "      <th>max</th>\n",
       "      <td>8.676700e+04</td>\n",
       "      <td>5.000000e+00</td>\n",
       "      <td>8.980000e+02</td>\n",
       "      <td>6.000000e+00</td>\n",
       "      <td>6.000000e+00</td>\n",
       "      <td>1.100000e+01</td>\n",
       "    </tr>\n",
       "  </tbody>\n",
       "</table>\n",
       "</div>"
      ],
      "text/plain": [
       "            Cust_Id        Rating      Movie_Id          year           dow  \\\n",
       "count  1.082274e+07  1.082274e+07  1.082274e+07  1.082274e+07  1.082274e+07   \n",
       "mean   4.051722e+04  3.563321e+00  4.214489e+02  4.952607e+00  2.893269e+00   \n",
       "std    2.451481e+04  1.056134e+00  2.555251e+02  1.065177e+00  2.061699e+00   \n",
       "min    0.000000e+00  1.000000e+00  0.000000e+00  0.000000e+00  0.000000e+00   \n",
       "25%    1.899500e+04  3.000000e+00  2.030000e+02  5.000000e+00  1.000000e+00   \n",
       "50%    3.988400e+04  4.000000e+00  4.210000e+02  5.000000e+00  3.000000e+00   \n",
       "75%    6.113800e+04  4.000000e+00  6.530000e+02  6.000000e+00  5.000000e+00   \n",
       "max    8.676700e+04  5.000000e+00  8.980000e+02  6.000000e+00  6.000000e+00   \n",
       "\n",
       "              month  \n",
       "count  1.082274e+07  \n",
       "mean   5.161487e+00  \n",
       "std    3.179469e+00  \n",
       "min    0.000000e+00  \n",
       "25%    2.000000e+00  \n",
       "50%    5.000000e+00  \n",
       "75%    7.000000e+00  \n",
       "max    1.100000e+01  "
      ]
     },
     "execution_count": 27,
     "metadata": {},
     "output_type": "execute_result"
    }
   ],
   "source": [
    "train.describe()"
   ]
  },
  {
   "cell_type": "code",
   "execution_count": 28,
   "metadata": {
    "ExecuteTime": {
     "end_time": "2018-06-01T17:36:07.640448Z",
     "start_time": "2018-06-01T17:36:07.638040Z"
    }
   },
   "outputs": [],
   "source": [
    "# train = df_encode_train[['Rating','Cust_Id', 'Movie_Id', 'Date']]\n",
    "# val = df_encode_val[['Rating','Cust_Id', 'Movie_Id', 'Date']]"
   ]
  },
  {
   "cell_type": "markdown",
   "metadata": {},
   "source": [
    "**Now that the data is processed, we can start building the components of out model. There are 3 major components:**\n",
    "1. DataSet - It passes the data to the DataLoader and in turn to the model in a form that the model can consume.\n",
    "2. Data Loader - Splits the data (as processed in the DataSet) into mini batches and passes it into the model on the fly. (I haven't defined a custom one here.)\n",
    "3. The model itself - This is where we initialse weights, define what layers to use, and the sequence.\n",
    "4. Training loop - This is where we actually train for multiple epochs and also generate test predictions."
   ]
  },
  {
   "cell_type": "markdown",
   "metadata": {},
   "source": [
    "## Dataset"
   ]
  },
  {
   "cell_type": "code",
   "execution_count": 29,
   "metadata": {
    "ExecuteTime": {
     "end_time": "2018-06-01T17:36:09.817804Z",
     "start_time": "2018-06-01T17:36:09.807811Z"
    }
   },
   "outputs": [],
   "source": [
    "class CustomDataset(Dataset):\n",
    "    def __init__(self, df):\n",
    "        self.u = torch.LongTensor(df.Cust_Id.values)\n",
    "        self.v = torch.LongTensor(df.Movie_Id.values)\n",
    "        self.y = torch.LongTensor(df.Rating.values)\n",
    "\n",
    "    def __len__(self):\n",
    "        self.len = len(self.u)\n",
    "        return self.len\n",
    "\n",
    "    def __getitem__(self, index):\n",
    "        return self.u[index], self.v[index], self.y[index]"
   ]
  },
  {
   "cell_type": "markdown",
   "metadata": {},
   "source": [
    "## Baseline Model - MF without Bias"
   ]
  },
  {
   "cell_type": "code",
   "execution_count": 30,
   "metadata": {
    "ExecuteTime": {
     "end_time": "2018-06-01T17:36:11.969450Z",
     "start_time": "2018-06-01T17:36:11.775111Z"
    }
   },
   "outputs": [
    {
     "data": {
      "text/plain": [
       "(95325, 900)"
      ]
     },
     "execution_count": 30,
     "metadata": {},
     "output_type": "execute_result"
    }
   ],
   "source": [
    "num_users = len(df_encode.Cust_Id.unique())\n",
    "num_movies = len(df_encode.Movie_Id.unique())\n",
    "emb_size = 50\n",
    "num_users, num_movies"
   ]
  },
  {
   "cell_type": "code",
   "execution_count": 31,
   "metadata": {
    "ExecuteTime": {
     "end_time": "2018-06-01T17:36:13.028244Z",
     "start_time": "2018-06-01T17:36:13.014677Z"
    }
   },
   "outputs": [],
   "source": [
    "class MF(nn.Module):\n",
    "    def __init__(self, num_user, num_movie, emb_size):\n",
    "        super(MF, self).__init__()\n",
    "        self.user_emb = nn.Embedding(num_user, emb_size)\n",
    "        self.movie_emb = nn.Embedding(num_movie, emb_size)\n",
    "        self.user_emb.weight.data.uniform_(0, 0.05)\n",
    "        self.movie_emb.weight.data.uniform_(0, 0.05)\n",
    "\n",
    "    def forward(self, u, v):\n",
    "        u = self.user_emb(u)\n",
    "        v = self.movie_emb(v)\n",
    "        return F.sigmoid((u * v).sum(1)) * 4 + 1"
   ]
  },
  {
   "cell_type": "code",
   "execution_count": 32,
   "metadata": {
    "ExecuteTime": {
     "end_time": "2018-06-01T17:36:13.889824Z",
     "start_time": "2018-06-01T17:36:13.742771Z"
    }
   },
   "outputs": [],
   "source": [
    "train_ds = CustomDataset(train[['Cust_Id', 'Rating', 'Movie_Id']])\n",
    "train_dl = DataLoader(train_ds, batch_size=100000, shuffle=True)\n",
    "\n",
    "# val_ds = CustomDataset(val)\n",
    "# val_dl = DataLoader(val_ds, batch_size = 100000, shuffle=False)\n",
    "# u,v,y = next(iter(train_dl))"
   ]
  },
  {
   "cell_type": "code",
   "execution_count": 33,
   "metadata": {
    "ExecuteTime": {
     "end_time": "2018-06-01T17:36:25.083896Z",
     "start_time": "2018-06-01T17:36:20.950513Z"
    }
   },
   "outputs": [
    {
     "data": {
      "text/plain": [
       "MF(\n",
       "  (user_emb): Embedding(95325, 50)\n",
       "  (movie_emb): Embedding(900, 50)\n",
       ")"
      ]
     },
     "execution_count": 33,
     "metadata": {},
     "output_type": "execute_result"
    }
   ],
   "source": [
    "model = MF(num_users, num_movies, emb_size).cuda()\n",
    "model"
   ]
  },
  {
   "cell_type": "code",
   "execution_count": 34,
   "metadata": {
    "ExecuteTime": {
     "end_time": "2018-06-01T17:36:25.188383Z",
     "start_time": "2018-06-01T17:36:25.178525Z"
    }
   },
   "outputs": [],
   "source": [
    "def test_loss(model, val):\n",
    "    model.eval()\n",
    "    preds = []\n",
    "    user = V(torch.LongTensor(val.Cust_Id.values)).cuda()\n",
    "    movie = V(torch.LongTensor(val.Movie_Id.values)).cuda()\n",
    "    rating = V(torch.LongTensor(val.Rating.values)).float().cuda()\n",
    "    y_hat = model(user, movie)\n",
    "    loss = F.mse_loss(y_hat, rating)\n",
    "    #     print(\"Validation loss %.3f \" % loss.data[0])\n",
    "    #     return y_hat\n",
    "    return loss.data[0]"
   ]
  },
  {
   "cell_type": "code",
   "execution_count": 35,
   "metadata": {
    "ExecuteTime": {
     "end_time": "2018-06-01T17:36:25.302827Z",
     "start_time": "2018-06-01T17:36:25.279293Z"
    }
   },
   "outputs": [],
   "source": [
    "def train_loop(model, train_dl, val, epochs, learning_rate, wd=0):\n",
    "    parameters = filter(lambda p: p.requires_grad, model.parameters())\n",
    "    optimiser = torch.optim.Adam(parameters, learning_rate, weight_decay=wd)\n",
    "    for i in range(epochs):\n",
    "        model.train()\n",
    "        for j, d in enumerate(train_dl):\n",
    "            mb_loss = []\n",
    "            user = V(d[0]).cuda()\n",
    "            movie = V(d[1]).cuda()\n",
    "            rating = V(d[2]).float().cuda()\n",
    "            y_hat = model(user, movie)\n",
    "            loss = F.mse_loss(y_hat, rating)\n",
    "            optimiser.zero_grad()\n",
    "            loss.backward()\n",
    "            mb_loss.append(loss.data[0])\n",
    "            optimiser.step()\n",
    "        print(f'Training loss for epoch {i} = {np.mean(mb_loss)}')\n",
    "        print(f'Validation loss for epoch {i} = {test_loss(model, val)}')\n",
    "\n",
    "\n",
    "#     return test_loss(model, val)"
   ]
  },
  {
   "cell_type": "code",
   "execution_count": 36,
   "metadata": {
    "ExecuteTime": {
     "end_time": "2018-06-01T17:38:23.546243Z",
     "start_time": "2018-06-01T17:36:27.459722Z"
    }
   },
   "outputs": [
    {
     "name": "stdout",
     "output_type": "stream",
     "text": [
      "Training loss for epoch 0 = 0.8476807475090027\n",
      "Validation loss for epoch 0 = 1.2101482152938843\n",
      "Training loss for epoch 1 = 0.8126561045646667\n",
      "Validation loss for epoch 1 = 1.1889935731887817\n",
      "Training loss for epoch 2 = 0.7813032269477844\n",
      "Validation loss for epoch 2 = 1.1767539978027344\n"
     ]
    }
   ],
   "source": [
    "train_loop(\n",
    "    model,\n",
    "    train_dl,\n",
    "    val[['Cust_Id', 'Rating', 'Movie_Id']],\n",
    "    3,\n",
    "    0.05,\n",
    "    wd=0.00001)"
   ]
  },
  {
   "cell_type": "markdown",
   "metadata": {},
   "source": [
    "This approach gives us an MSE Loss od 1.176 on the validation set. I am using this as my baseline model and training 2 more models to improve the performance."
   ]
  },
  {
   "cell_type": "markdown",
   "metadata": {},
   "source": [
    "## MF with Bias"
   ]
  },
  {
   "cell_type": "code",
   "execution_count": 37,
   "metadata": {
    "ExecuteTime": {
     "end_time": "2018-06-01T17:38:40.863193Z",
     "start_time": "2018-06-01T17:38:40.838204Z"
    }
   },
   "outputs": [],
   "source": [
    "class MFBias(nn.Module):\n",
    "    def __init__(self, num_user, num_movie, emb_size):\n",
    "        super(MFBias, self).__init__()\n",
    "        self.user_emb = nn.Embedding(num_user, emb_size)\n",
    "        self.movie_emb = nn.Embedding(num_movie, emb_size)\n",
    "        self.user_bias = nn.Embedding(num_user, 1)\n",
    "        self.movie_bias = nn.Embedding(num_movie, 1)\n",
    "\n",
    "        self.user_emb.weight.data.uniform_(0, 0.05)\n",
    "        self.movie_emb.weight.data.uniform_(0, 0.05)\n",
    "        self.user_bias.weight.data.uniform_(-0.01, 0.01)\n",
    "        self.movie_bias.weight.data.uniform_(-0.01, 0.01)\n",
    "\n",
    "    def forward(self, u, v):\n",
    "        U = self.user_emb(u)\n",
    "        V = self.movie_emb(v)\n",
    "\n",
    "        b_u = self.user_bias(u).squeeze()\n",
    "        b_v = self.movie_bias(v).squeeze()\n",
    "\n",
    "        return F.sigmoid((U * V).sum(1) + b_u + b_v) * 4 + 1"
   ]
  },
  {
   "cell_type": "code",
   "execution_count": 38,
   "metadata": {
    "ExecuteTime": {
     "end_time": "2018-06-01T17:38:41.846879Z",
     "start_time": "2018-06-01T17:38:41.445287Z"
    }
   },
   "outputs": [],
   "source": [
    "bias_model = MFBias(num_users, num_movies, emb_size).cuda()"
   ]
  },
  {
   "cell_type": "code",
   "execution_count": 39,
   "metadata": {
    "ExecuteTime": {
     "end_time": "2018-06-01T17:40:41.346641Z",
     "start_time": "2018-06-01T17:38:45.280600Z"
    }
   },
   "outputs": [
    {
     "name": "stdout",
     "output_type": "stream",
     "text": [
      "Training loss for epoch 0 = 0.7856623530387878\n",
      "Validation loss for epoch 0 = 0.9371397495269775\n",
      "Training loss for epoch 1 = 0.7730052471160889\n",
      "Validation loss for epoch 1 = 0.9305683970451355\n",
      "Training loss for epoch 2 = 0.777308464050293\n",
      "Validation loss for epoch 2 = 0.9317906498908997\n"
     ]
    }
   ],
   "source": [
    "train_loop(bias_model, train_dl, val, 3, 0.05, wd=0.00001)"
   ]
  },
  {
   "cell_type": "markdown",
   "metadata": {},
   "source": [
    "Thus adding user and movie bias made the model better by reducing MSE Loss to 0.93 from 1.176."
   ]
  },
  {
   "cell_type": "markdown",
   "metadata": {},
   "source": [
    "## Neural Net Approach"
   ]
  },
  {
   "cell_type": "markdown",
   "metadata": {},
   "source": [
    "For this approach, I have created embeddings for user, movie, year, month and day of the week."
   ]
  },
  {
   "cell_type": "code",
   "execution_count": 40,
   "metadata": {
    "ExecuteTime": {
     "end_time": "2018-06-01T17:40:49.207330Z",
     "start_time": "2018-06-01T17:40:49.146584Z"
    }
   },
   "outputs": [],
   "source": [
    "class CollabNN(nn.Module):\n",
    "    def __init__(self,\n",
    "                 num_users,\n",
    "                 num_movies,\n",
    "                 emb_size,\n",
    "                 num_years,\n",
    "                 num_months,\n",
    "                 num_dow,\n",
    "                 layer_size=100):\n",
    "        super(CollabNN, self).__init__()\n",
    "        self.user_emb = nn.Embedding(num_users, emb_size)\n",
    "        self.movie_emb = nn.Embedding(num_movies, emb_size)\n",
    "        self.user_emb.weight.data.uniform_(0, 0.05)\n",
    "        self.movie_emb.weight.data.uniform_(0, 0.05)\n",
    "\n",
    "        self.year_emb = nn.Embedding(num_years, 10)\n",
    "        self.month_emb = nn.Embedding(num_months, 10)\n",
    "        self.dow_emb = nn.Embedding(num_dow, 10)\n",
    "\n",
    "        self.year_emb.weight.data.uniform_(0, 0.05)\n",
    "        self.month_emb.weight.data.uniform_(0, 0.05)\n",
    "        self.dow_emb.weight.data.uniform_(0, 0.05)\n",
    "\n",
    "        self.lin1 = nn.Linear(emb_size * 2 + 30, layer_size)\n",
    "        self.lin2 = nn.Linear(layer_size, 10)\n",
    "        self.lin3 = nn.Linear(10, 1)\n",
    "        self.drop1 = nn.Dropout(0.2)\n",
    "        self.drop2 = nn.Dropout(0.2)\n",
    "\n",
    "    def forward(self, u, v, year, month, dow):\n",
    "        u = self.user_emb(u)\n",
    "        v = self.movie_emb(v)\n",
    "        year = self.year_emb(year)\n",
    "        dow = self.dow_emb(dow)\n",
    "        month = self.month_emb(month)\n",
    "\n",
    "        x = self.drop1(torch.cat([u, v, year, month, dow], dim=1))\n",
    "        x = F.relu(self.lin1(x))\n",
    "        x = self.drop2(F.relu(self.lin2(x)))\n",
    "        x = self.lin3(x)\n",
    "        return F.sigmoid(x) * 4 + 1"
   ]
  },
  {
   "cell_type": "code",
   "execution_count": 41,
   "metadata": {
    "ExecuteTime": {
     "end_time": "2018-06-01T17:40:50.088518Z",
     "start_time": "2018-06-01T17:40:50.073700Z"
    }
   },
   "outputs": [],
   "source": [
    "class CustomDataset2(Dataset):\n",
    "    def __init__(self, df):\n",
    "        self.u = torch.LongTensor(df.Cust_Id.values)\n",
    "        self.v = torch.LongTensor(df.Movie_Id.values)\n",
    "        self.year = torch.LongTensor(df.year.values)\n",
    "        self.month = torch.LongTensor(df.month.values)\n",
    "        self.dow = torch.LongTensor(df.dow.values)\n",
    "        self.y = torch.LongTensor(df.Rating.values)\n",
    "\n",
    "    def __len__(self):\n",
    "        self.len = len(self.u)\n",
    "        return self.len\n",
    "\n",
    "    def __getitem__(self, index):\n",
    "        return self.u[index], self.v[index], self.year[index], self.month[\n",
    "            index], self.dow[index], self.y[index]"
   ]
  },
  {
   "cell_type": "code",
   "execution_count": 42,
   "metadata": {
    "ExecuteTime": {
     "end_time": "2018-06-01T17:40:50.917085Z",
     "start_time": "2018-06-01T17:40:50.734673Z"
    }
   },
   "outputs": [
    {
     "data": {
      "text/plain": [
       "(7, 12, 7)"
      ]
     },
     "execution_count": 42,
     "metadata": {},
     "output_type": "execute_result"
    }
   ],
   "source": [
    "num_years = len(df_encode.year.unique())\n",
    "num_months = len(df_encode.month.unique())\n",
    "num_dow = len(df_encode.dow.unique())\n",
    "num_dow, num_months, num_years"
   ]
  },
  {
   "cell_type": "code",
   "execution_count": 43,
   "metadata": {
    "ExecuteTime": {
     "end_time": "2018-06-01T17:40:53.040206Z",
     "start_time": "2018-06-01T17:40:53.003767Z"
    }
   },
   "outputs": [],
   "source": [
    "train_ds = CustomDataset2(train)\n",
    "train_dl = DataLoader(train_ds, batch_size=100000, shuffle=True)"
   ]
  },
  {
   "cell_type": "code",
   "execution_count": 44,
   "metadata": {
    "ExecuteTime": {
     "end_time": "2018-06-01T17:40:55.615464Z",
     "start_time": "2018-06-01T17:40:55.598807Z"
    }
   },
   "outputs": [],
   "source": [
    "def test_loss(model, val):\n",
    "    model.eval()\n",
    "    preds = []\n",
    "    user = V(torch.LongTensor(val.Cust_Id.values)).cuda()\n",
    "    movie = V(torch.LongTensor(val.Movie_Id.values)).cuda()\n",
    "    year = V(torch.LongTensor(val.year.values)).cuda()\n",
    "    month = V(torch.LongTensor(val.month.values)).cuda()\n",
    "    dow = V(torch.LongTensor(val.dow.values)).cuda()\n",
    "    rating = V(torch.LongTensor(val.Rating.values)).float().cuda()\n",
    "\n",
    "    y_hat = model(user, movie, year, month, dow)\n",
    "    loss = F.mse_loss(y_hat, rating)\n",
    "    #     print(\"Validation loss %.3f \" % loss.data[0])\n",
    "    #     return y_hat\n",
    "    return loss.data[0]"
   ]
  },
  {
   "cell_type": "code",
   "execution_count": 45,
   "metadata": {
    "ExecuteTime": {
     "end_time": "2018-06-01T17:40:58.212867Z",
     "start_time": "2018-06-01T17:40:58.182305Z"
    }
   },
   "outputs": [],
   "source": [
    "def train_loop(model, train_dl, val, epochs, learning_rate, wd=0):\n",
    "    parameters = filter(lambda p: p.requires_grad, model.parameters())\n",
    "    optimiser = torch.optim.Adam(parameters, learning_rate, weight_decay=wd)\n",
    "    for i in range(epochs):\n",
    "        model.train()\n",
    "        for j, d in enumerate(train_dl):\n",
    "            mb_loss = []\n",
    "            user = V(d[0]).cuda()\n",
    "            movie = V(d[1]).cuda()\n",
    "            year = V(d[2]).cuda()\n",
    "            month = V(d[3]).cuda()\n",
    "            dow = V(d[4]).cuda()\n",
    "            rating = V(d[5]).float().cuda()\n",
    "            y_hat = model(user, movie, year, month, dow)\n",
    "            loss = F.mse_loss(y_hat, rating)\n",
    "            optimiser.zero_grad()\n",
    "            loss.backward()\n",
    "            mb_loss.append(loss.data[0])\n",
    "            optimiser.step()\n",
    "        print(f'Training loss for epoch {i} = {np.mean(mb_loss)}')\n",
    "        print(f'Validation loss for epoch {i} = {test_loss(model, val)}')\n",
    "\n",
    "\n",
    "#     return test_loss(model, val)"
   ]
  },
  {
   "cell_type": "code",
   "execution_count": 46,
   "metadata": {
    "ExecuteTime": {
     "end_time": "2018-06-01T17:41:04.687697Z",
     "start_time": "2018-06-01T17:41:04.603885Z"
    }
   },
   "outputs": [],
   "source": [
    "nn_model = CollabNN(num_users, num_movies, 10, num_years, num_months, num_dow,\n",
    "                    200).cuda()"
   ]
  },
  {
   "cell_type": "code",
   "execution_count": 47,
   "metadata": {
    "ExecuteTime": {
     "end_time": "2018-06-01T17:44:23.979276Z",
     "start_time": "2018-06-01T17:41:06.460806Z"
    }
   },
   "outputs": [
    {
     "name": "stdout",
     "output_type": "stream",
     "text": [
      "Training loss for epoch 0 = 0.8176421523094177\n",
      "Validation loss for epoch 0 = 0.9230867624282837\n",
      "Training loss for epoch 1 = 0.7879918813705444\n",
      "Validation loss for epoch 1 = 0.9167137742042542\n",
      "Training loss for epoch 2 = 0.7823916077613831\n",
      "Validation loss for epoch 2 = 0.9127696752548218\n"
     ]
    }
   ],
   "source": [
    "train_loop(nn_model, train_dl, val, 3, 0.05, 0)"
   ]
  },
  {
   "cell_type": "markdown",
   "metadata": {},
   "source": [
    "Thus we see that this model gives lower MSE Loss (0.91) than the previous 2 (1.176 and 0.93)."
   ]
  },
  {
   "cell_type": "code",
   "execution_count": null,
   "metadata": {},
   "outputs": [],
   "source": []
  }
 ],
 "metadata": {
  "kernelspec": {
   "display_name": "Python 3",
   "language": "python",
   "name": "python3"
  },
  "language_info": {
   "codemirror_mode": {
    "name": "ipython",
    "version": 3
   },
   "file_extension": ".py",
   "mimetype": "text/x-python",
   "name": "python",
   "nbconvert_exporter": "python",
   "pygments_lexer": "ipython3",
   "version": "3.6.3"
  },
  "varInspector": {
   "cols": {
    "lenName": 16,
    "lenType": 16,
    "lenVar": 40
   },
   "kernels_config": {
    "python": {
     "delete_cmd_postfix": "",
     "delete_cmd_prefix": "del ",
     "library": "var_list.py",
     "varRefreshCmd": "print(var_dic_list())"
    },
    "r": {
     "delete_cmd_postfix": ") ",
     "delete_cmd_prefix": "rm(",
     "library": "var_list.r",
     "varRefreshCmd": "cat(var_dic_list()) "
    }
   },
   "types_to_exclude": [
    "module",
    "function",
    "builtin_function_or_method",
    "instance",
    "_Feature"
   ],
   "window_display": false
  }
 },
 "nbformat": 4,
 "nbformat_minor": 2
}
